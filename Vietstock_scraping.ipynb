{
 "cells": [
  {
   "cell_type": "code",
   "execution_count": 1,
   "metadata": {},
   "outputs": [],
   "source": [
    "from bs4 import BeautifulSoup as soup\n",
    "import requests\n",
    "import nltk\n",
    "from newspaper import Article"
   ]
  },
  {
   "cell_type": "code",
   "execution_count": 2,
   "metadata": {},
   "outputs": [],
   "source": [
    "url=\"https://vietstock.vn/\""
   ]
  },
  {
   "cell_type": "code",
   "execution_count": 3,
   "metadata": {},
   "outputs": [],
   "source": [
    "headers={\"User-agent\": 'Chrome/101.0.4951.54'}"
   ]
  },
  {
   "cell_type": "code",
   "execution_count": 4,
   "metadata": {},
   "outputs": [],
   "source": [
    "request =requests.get(url, headers=headers)\n",
    "html=request.content"
   ]
  },
  {
   "cell_type": "code",
   "execution_count": 5,
   "metadata": {},
   "outputs": [],
   "source": [
    "s=soup(html,'html.parser')"
   ]
  },
  {
   "cell_type": "code",
   "execution_count": 6,
   "metadata": {},
   "outputs": [],
   "source": [
    "def viestock_news_scrapper(keyword): # Hàm học tin liên quan mã CK\n",
    "    news_list=[]\n",
    "    h_list=['h1','h2','h3','h4']    # Dùng list này để chạy loop trong list lấy ra tiêu đề bài báo\n",
    "    for h in s.findAll(h_list):     # Loop để lấy tiêu đề add vào New_list\n",
    "        news_title = h.text\n",
    "        if news_title not in news_list:\n",
    "            news_list.append(news_title)\n",
    "    print(news_list)\n",
    "    \n",
    "    no_of_news=0\n",
    "    keyword_list=[]\n",
    "    for i, title in enumerate(news_list):\n",
    "        text = ''\n",
    "        if keyword.lower() in title: # Tính tổng bài nhắc tới mã CK\n",
    "            text= ''\n",
    "            no_of_news +=1\n",
    "            keyword_list.append(title) # List các bài liên quan mã CK\n",
    "        print(i+1, ':', title, text)\n",
    "    print(f'\\n-------- Total mentions of \"{keyword}\" = {no_of_news} -----')\n",
    "\n",
    "    for i, title in enumerate(keyword_list):\n",
    "        print(i + 1, ':', title)"
   ]
  },
  {
   "cell_type": "code",
   "execution_count": 7,
   "metadata": {},
   "outputs": [
    {
     "name": "stdout",
     "output_type": "stream",
     "text": [
      "['Thu nhập khác tác động mạnh đến kết quả của doanh nghiệp cao su trong quý đầu năm', 'Lộ diện khu vực đáng đầu tư nhất giữa lúc bất động sản TP.HCM khan hiếm nguồn cung', 'Vietstock Weekly 23-27/05/2022: Triển vọng ngắn hạn đang cải thiện', '34 doanh nghiệp chốt cổ tức tuần 23-27/05: Tỷ lệ cao nhất 40%\\xa0', 'Giao dịch quỹ đầu tư: Lực bán dồn dập', 'MSN cùng nhóm ngân hàng đưa VN-Index về trên ngưỡng 1,240 điểm', '\\n\\r\\n                                    Thu nhập khác tác động mạnh đến kết quả của doanh nghiệp cao su...\\r\\n                                ', '\\n\\r\\n                                    EMC báo lãi ròng quý 1/2022 đi ngang\\r\\n                                ', '\\n\\r\\n                                    Tiếp tục lỗ nặng trong quý 1, Vietnam Airlines âm vốn chủ sở...\\r\\n                                ', '\\n\\r\\n                                    CNT báo lãi quý 1 gấp gần 4 lần cùng kỳ, tiền gửi ngân hàng...\\r\\n                                ', '\\n\\r\\n                                    Toàn cảnh lợi nhuận doanh nghiệp niêm yết trong quý đầu năm 2022\\r\\n                                ', '\\n\\r\\n                                    Lợi nhuận ngành bảo hiểm phi nhân thọ phân hóa trong quý 1\\r\\n                                ', '\\n\\r\\n                                    [Infographics] Toàn cảnh kết quả kinh doanh ngân hàng trong quý...\\r\\n                                ', '\\n\\r\\n                                    Cấp nước Nhà Bè chốt ngày trả cổ tức tiền mặt tỷ lệ 12%\\xa0\\r\\n                                ', '\\n\\r\\n                                    Doanh nghiệp săm lốp chưa thể “đề pa” mạnh mẽ trong quý đầu năm...\\r\\n                                ', '\\nNgân hàng Nhà nước sẽ nghiêm khắc với sở hữu chéo, cho vay BOT\\n', 'PVA sẽ tạm dừng kinh doanh trong vòng 1 năm', 'VLC rục rịch chào bán 24 triệu cp để huy động vốn cho dự án bò thịt', 'Có tiền, phải tiêu, nhưng tránh tiêu bằng mọi giá', 'Phó Tổng Giám đốc CTB muốn bán sạch cổ phiếu đang nắm giữ', 'Top cổ phiếu đáng chú ý đầu tuần 23/05', 'Sáng 23/5 chính thức khai mạc kỳ họp thứ 3 Quốc hội khóa XV', 'Nhận định phân tích', '\\nKinh tế Trung Quốc trì trệ, phủ bóng đen lên ASEAN\\n', 'MyVIB là ứng dụng Ngân hàng di động tốt nhất Việt Nam theo đánh giá của The Asset', 'Vì sao thị trường sạch bóng trái phiếu doanh nghiệp bất động sản?', 'Buộc thôi việc Tổng Giám đốc HOSE Lê Hải Trà\\xa0', 'Làm giá cổ phiếu qua lời kể của một “sói già chứng khoán”', 'BWE - Giá vẫn còn ở mức hợp lý', 'Nâng hạng và tăng chất cho thị trường chứng khoán Việt Nam', 'EMC báo lãi ròng quý 1/2022 đi ngang', 'BMI chốt quyền trả cổ tức năm 2021 bằng tiền, tỷ lệ 15%', 'Sửa quy định để không xảy ra tình trạng sốt đất ảo', 'OCB triển khai tính năng thanh toán qua nhận diện khuôn mặt Facepay', 'Câu chuyện đầu tư', 'Mới chỉ có giá phân ure giảm nhẹ', 'Bức tranh ảm đạm kinh tế toàn cầu: Lạm phát cao, tăng trưởng giảm tốc', 'Lào đối mặt với nguy cơ thiếu xăng', 'Tài xế taxi công nghệ nhảy việc nhiều, người dùng khó gọi xe', 'MULTIMEDIA', 'Tin ảnh', 'Long-form', 'Quizz', 'NYSE hợp tác UBCKNN xây dựng cơ chế tham gia hai thị trường chứng khoán\\xa0', 'Doanh nghiệp xây dựng nào báo lãi lớn nhất quý đầu năm 2022?', 'Lý thuyết gấu váy là gì?', '[Infographics] Toàn cảnh kết quả kinh doanh ngân hàng trong quý 1/2022', 'Sàn Giao Dịch Tài Chính', 'Đấu trường chứng khoán', 'Tiền kỹ thuật số', 'Chứng khoán thế giới', 'Bên trong cuộc chạy đua tăng giá của tiền điện tử - Nó đã kết thúc?', 'Khối lượng giao dịch: Tại sao nó lại quan trọng đối với các nhà môi giới và nhà giao dịch', 'Năng lượng: Mọi thứ cần biết về loại tài sản này', '', 'Tính năng (-)', 'Ngành (-)', 'Mã chứng khoán (-)', 'Lãnh đạo (-)', 'Tin tức (-)', 'Báo cáo phân tích (-)', 'Dịch vụ (-)', 'Phòng kinh doanh Vietstock']\n",
      "1 : Thu nhập khác tác động mạnh đến kết quả của doanh nghiệp cao su trong quý đầu năm \n",
      "2 : Lộ diện khu vực đáng đầu tư nhất giữa lúc bất động sản TP.HCM khan hiếm nguồn cung \n",
      "3 : Vietstock Weekly 23-27/05/2022: Triển vọng ngắn hạn đang cải thiện \n",
      "4 : 34 doanh nghiệp chốt cổ tức tuần 23-27/05: Tỷ lệ cao nhất 40%  \n",
      "5 : Giao dịch quỹ đầu tư: Lực bán dồn dập \n",
      "6 : MSN cùng nhóm ngân hàng đưa VN-Index về trên ngưỡng 1,240 điểm \n",
      "7 : \n",
      "\n",
      "                                    Thu nhập khác tác động mạnh đến kết quả của doanh nghiệp cao su...\n",
      "                                 \n",
      "8 : \n",
      "\n",
      "                                    EMC báo lãi ròng quý 1/2022 đi ngang\n",
      "                                 \n",
      "9 : \n",
      "\n",
      "                                    Tiếp tục lỗ nặng trong quý 1, Vietnam Airlines âm vốn chủ sở...\n",
      "                                 \n",
      "10 : \n",
      "\n",
      "                                    CNT báo lãi quý 1 gấp gần 4 lần cùng kỳ, tiền gửi ngân hàng...\n",
      "                                 \n",
      "11 : \n",
      "\n",
      "                                    Toàn cảnh lợi nhuận doanh nghiệp niêm yết trong quý đầu năm 2022\n",
      "                                 \n",
      "12 : \n",
      "\n",
      "                                    Lợi nhuận ngành bảo hiểm phi nhân thọ phân hóa trong quý 1\n",
      "                                 \n",
      "13 : \n",
      "\n",
      "                                    [Infographics] Toàn cảnh kết quả kinh doanh ngân hàng trong quý...\n",
      "                                 \n",
      "14 : \n",
      "\n",
      "                                    Cấp nước Nhà Bè chốt ngày trả cổ tức tiền mặt tỷ lệ 12% \n",
      "                                 \n",
      "15 : \n",
      "\n",
      "                                    Doanh nghiệp săm lốp chưa thể “đề pa” mạnh mẽ trong quý đầu năm...\n",
      "                                 \n",
      "16 : \n",
      "Ngân hàng Nhà nước sẽ nghiêm khắc với sở hữu chéo, cho vay BOT\n",
      " \n",
      "17 : PVA sẽ tạm dừng kinh doanh trong vòng 1 năm \n",
      "18 : VLC rục rịch chào bán 24 triệu cp để huy động vốn cho dự án bò thịt \n",
      "19 : Có tiền, phải tiêu, nhưng tránh tiêu bằng mọi giá \n",
      "20 : Phó Tổng Giám đốc CTB muốn bán sạch cổ phiếu đang nắm giữ \n",
      "21 : Top cổ phiếu đáng chú ý đầu tuần 23/05 \n",
      "22 : Sáng 23/5 chính thức khai mạc kỳ họp thứ 3 Quốc hội khóa XV \n",
      "23 : Nhận định phân tích \n",
      "24 : \n",
      "Kinh tế Trung Quốc trì trệ, phủ bóng đen lên ASEAN\n",
      " \n",
      "25 : MyVIB là ứng dụng Ngân hàng di động tốt nhất Việt Nam theo đánh giá của The Asset \n",
      "26 : Vì sao thị trường sạch bóng trái phiếu doanh nghiệp bất động sản? \n",
      "27 : Buộc thôi việc Tổng Giám đốc HOSE Lê Hải Trà  \n",
      "28 : Làm giá cổ phiếu qua lời kể của một “sói già chứng khoán” \n",
      "29 : BWE - Giá vẫn còn ở mức hợp lý \n",
      "30 : Nâng hạng và tăng chất cho thị trường chứng khoán Việt Nam \n",
      "31 : EMC báo lãi ròng quý 1/2022 đi ngang \n",
      "32 : BMI chốt quyền trả cổ tức năm 2021 bằng tiền, tỷ lệ 15% \n",
      "33 : Sửa quy định để không xảy ra tình trạng sốt đất ảo \n",
      "34 : OCB triển khai tính năng thanh toán qua nhận diện khuôn mặt Facepay \n",
      "35 : Câu chuyện đầu tư \n",
      "36 : Mới chỉ có giá phân ure giảm nhẹ \n",
      "37 : Bức tranh ảm đạm kinh tế toàn cầu: Lạm phát cao, tăng trưởng giảm tốc \n",
      "38 : Lào đối mặt với nguy cơ thiếu xăng \n",
      "39 : Tài xế taxi công nghệ nhảy việc nhiều, người dùng khó gọi xe \n",
      "40 : MULTIMEDIA \n",
      "41 : Tin ảnh \n",
      "42 : Long-form \n",
      "43 : Quizz \n",
      "44 : NYSE hợp tác UBCKNN xây dựng cơ chế tham gia hai thị trường chứng khoán  \n",
      "45 : Doanh nghiệp xây dựng nào báo lãi lớn nhất quý đầu năm 2022? \n",
      "46 : Lý thuyết gấu váy là gì? \n",
      "47 : [Infographics] Toàn cảnh kết quả kinh doanh ngân hàng trong quý 1/2022 \n",
      "48 : Sàn Giao Dịch Tài Chính \n",
      "49 : Đấu trường chứng khoán \n",
      "50 : Tiền kỹ thuật số \n",
      "51 : Chứng khoán thế giới \n",
      "52 : Bên trong cuộc chạy đua tăng giá của tiền điện tử - Nó đã kết thúc? \n",
      "53 : Khối lượng giao dịch: Tại sao nó lại quan trọng đối với các nhà môi giới và nhà giao dịch \n",
      "54 : Năng lượng: Mọi thứ cần biết về loại tài sản này \n",
      "55 :  \n",
      "56 : Tính năng (-) \n",
      "57 : Ngành (-) \n",
      "58 : Mã chứng khoán (-) \n",
      "59 : Lãnh đạo (-) \n",
      "60 : Tin tức (-) \n",
      "61 : Báo cáo phân tích (-) \n",
      "62 : Dịch vụ (-) \n",
      "63 : Phòng kinh doanh Vietstock \n",
      "\n",
      "-------- Total mentions of \"LIG\" = 0 -----\n"
     ]
    }
   ],
   "source": [
    "viestock_news_scrapper('LIG')"
   ]
  },
  {
   "cell_type": "code",
   "execution_count": 8,
   "metadata": {},
   "outputs": [],
   "source": [
    "news_list=[]\n",
    "h_list=['h1','h2','h3','h4']    # Dùng list này để chạy loop trong list lấy ra tiêu đề bài báo\n",
    "for h in s.findAll(h_list):     # Loop để lấy tiêu đề add vào New_list\n",
    "    news_title = h.text\n",
    "    if news_title not in news_list:\n",
    "        news_list.append(news_title)"
   ]
  },
  {
   "cell_type": "code",
   "execution_count": 9,
   "metadata": {},
   "outputs": [],
   "source": [
    "# Lấy link bài báo dựa theo tiêu đề\n",
    "links=[]\n",
    "for news in s.findAll(h_list,class_='title'):\n",
    "    links.append('https://vietstock.vn'+news.a['href'])"
   ]
  },
  {
   "cell_type": "code",
   "execution_count": 10,
   "metadata": {},
   "outputs": [],
   "source": [
    "stock_list=['HPG','CTG','ACB','BID','BVH','FPT','GAS','GVR','HDB','KDH','BMM','MSN','MWG','NVL','PDR','PLX','PNJ','POW','SAB','SSI','STB','TCB','VCB','VHM','VIC','VJC','VNM','VPB','VRE']"
   ]
  },
  {
   "cell_type": "code",
   "execution_count": 11,
   "metadata": {},
   "outputs": [
    {
     "name": "stdout",
     "output_type": "stream",
     "text": [
      "https://vietstock.vn/2022/05/msn-cung-nhom-ngan-hang-dua-vn-index-ve-tren-nguong-1240-diem-830-966725.htm\n"
     ]
    }
   ],
   "source": [
    "for i in links:\n",
    "    try: \n",
    "        a=Article(i)\n",
    "        a.download()\n",
    "        a.parse()\n",
    "        for stock in stock_list:\n",
    "            if stock in a.title:\n",
    "                print(i)\n",
    "    except:\n",
    "        pass\n",
    "    \n"
   ]
  },
  {
   "cell_type": "code",
   "execution_count": 12,
   "metadata": {},
   "outputs": [],
   "source": [
    "# Từ link trong list lấy được tất cả nội dung bài báo trong list link\n",
    "#for link in links :\n",
    "   # r=Article(link)\n",
    "    #r.download()\n",
    "   # r.parse()\n",
    "   # print(r.text)\n"
   ]
  },
  {
   "cell_type": "code",
   "execution_count": 4,
   "metadata": {},
   "outputs": [],
   "source": [
    "url_2=\"https://cafef.vn/\"\n",
    "request =requests.get(url_2, headers=headers)\n",
    "html_2=request.content\n",
    "s_2=soup(html_2,'html.parser')\n"
   ]
  },
  {
   "cell_type": "code",
   "execution_count": 14,
   "metadata": {},
   "outputs": [],
   "source": [
    "news_list=[]\n",
    "h_list=['h2','h3','h4']"
   ]
  },
  {
   "cell_type": "code",
   "execution_count": 20,
   "metadata": {},
   "outputs": [
    {
     "data": {
      "text/plain": [
       "[<h4>\n",
       " <a href=\"/dong-tien-dich-chuyen-nguoi-dan-dang-gui-bao-nhieu-tien-tai-he-thong-ngan-hang-20220526153711487.chn\" title=\"Dòng tiền dịch chuyển, người dân đang gửi bao nhiêu tiền tại hệ thống ngân hàng?\">\n",
       "                                 Dòng tiền dịch chuyển, người dân đang gửi bao nhiêu tiền tại hệ thống ngân hàng?\n",
       "                             </a>\n",
       " </h4>,\n",
       " <h4>\n",
       " <a href=\"/thi-truong-hoi-phuc-sau-nhip-giam-sau-chien-luoc-phong-thu-van-nen-dat-len-hang-dau-2022052620171085.chn\" title=\"Thị trường hồi phục sau nhịp giảm sâu, chiến lược phòng thủ vẫn nên đặt lên hàng đầu\">\n",
       "                                 Thị trường hồi phục sau nhịp giảm sâu, chiến lược phòng thủ vẫn nên đặt lên hàng đầu\n",
       "                             </a>\n",
       " </h4>,\n",
       " <h4>\n",
       " <a href=\"/sp-nang-xep-hang-tin-nhiem-dai-han-cua-viet-nam-len-muc-bb-trien-vong-on-dinh-20220527085013788.chn\" title=\"S&amp;P nâng xếp hạng tín nhiệm dài hạn của Việt Nam lên mức BB+, triển vọng 'Ổn định'\">\n",
       "                                 S&amp;P nâng xếp hạng tín nhiệm dài hạn của Việt Nam lên mức BB+, triển vọng 'Ổn định'\n",
       "                             </a>\n",
       " </h4>,\n",
       " <h4>\n",
       " <a href=\"/lai-hang-tram-den-ca-nghin-ty-dong-tu-mua-re-nhieu-doanh-nghiep-bat-dong-san-duoc-cuu-canh-khi-loi-nhuan-tu-hoat-dong-chu-chot-giam-sut-20220525160351214.chn\" title='Lãi hàng trăm đến cả nghìn tỷ đồng từ mua rẻ, nhiều doanh nghiệp bất động sản được \"cứu cánh\" khi lợi nhuận từ hoạt động chủ chốt giảm sút'>\n",
       "                                 Lãi hàng trăm đến cả nghìn tỷ đồng từ mua rẻ, nhiều doanh nghiệp bất động sản được \"cứu cánh\" khi lợi nhuận từ hoạt động chủ chốt giảm sút\n",
       "                             </a>\n",
       " </h4>]"
      ]
     },
     "execution_count": 20,
     "metadata": {},
     "output_type": "execute_result"
    }
   ],
   "source": [
    "s_2.findAll('h4')"
   ]
  },
  {
   "cell_type": "code",
   "execution_count": 15,
   "metadata": {},
   "outputs": [],
   "source": [
    "for h in s_2.findAll(h_list):     # Loop để lấy tiêu đề add vào New_list\n",
    "    news_title = h.text\n",
    "    if news_title not in news_list:\n",
    "        news_list.append(news_title)"
   ]
  },
  {
   "cell_type": "code",
   "execution_count": 19,
   "metadata": {},
   "outputs": [
    {
     "ename": "TypeError",
     "evalue": "'NoneType' object is not subscriptable",
     "output_type": "error",
     "traceback": [
      "\u001b[1;31m---------------------------------------------------------------------------\u001b[0m",
      "\u001b[1;31mTypeError\u001b[0m                                 Traceback (most recent call last)",
      "\u001b[1;32m<ipython-input-19-c9ae807e4089>\u001b[0m in \u001b[0;36m<module>\u001b[1;34m\u001b[0m\n\u001b[0;32m      1\u001b[0m \u001b[0mlinks\u001b[0m\u001b[1;33m=\u001b[0m\u001b[1;33m[\u001b[0m\u001b[1;33m]\u001b[0m\u001b[1;33m\u001b[0m\u001b[0m\n\u001b[0;32m      2\u001b[0m \u001b[1;32mfor\u001b[0m \u001b[0mnews\u001b[0m \u001b[1;32min\u001b[0m \u001b[0ms_2\u001b[0m\u001b[1;33m.\u001b[0m\u001b[0mfindAll\u001b[0m\u001b[1;33m(\u001b[0m\u001b[0mh_list\u001b[0m\u001b[1;33m)\u001b[0m\u001b[1;33m:\u001b[0m\u001b[1;33m\u001b[0m\u001b[0m\n\u001b[1;32m----> 3\u001b[1;33m     \u001b[0mlinks\u001b[0m\u001b[1;33m.\u001b[0m\u001b[0mappend\u001b[0m\u001b[1;33m(\u001b[0m\u001b[1;34m'https://vietstock.vn'\u001b[0m\u001b[1;33m+\u001b[0m\u001b[0mnews\u001b[0m\u001b[1;33m.\u001b[0m\u001b[0ma\u001b[0m\u001b[1;33m[\u001b[0m\u001b[1;34m'href'\u001b[0m\u001b[1;33m]\u001b[0m\u001b[1;33m)\u001b[0m\u001b[1;33m\u001b[0m\u001b[0m\n\u001b[0m",
      "\u001b[1;31mTypeError\u001b[0m: 'NoneType' object is not subscriptable"
     ]
    }
   ],
   "source": [
    "links=[]\n",
    "for news in s_2.findAll(h_list):\n",
    "    links.append('https://vietstock.vn'+news.a['href'])"
   ]
  },
  {
   "cell_type": "code",
   "execution_count": 18,
   "metadata": {},
   "outputs": [
    {
     "data": {
      "text/plain": [
       "[]"
      ]
     },
     "execution_count": 18,
     "metadata": {},
     "output_type": "execute_result"
    }
   ],
   "source": [
    "links"
   ]
  },
  {
   "cell_type": "code",
   "execution_count": null,
   "metadata": {},
   "outputs": [],
   "source": []
  }
 ],
 "metadata": {
  "interpreter": {
   "hash": "77a733e02d0c8da6ab46b64f0ed4278179004011c379d3da33fcae454f613497"
  },
  "kernelspec": {
   "display_name": "Python 3.6.6 64-bit",
   "language": "python",
   "name": "python3"
  },
  "language_info": {
   "codemirror_mode": {
    "name": "ipython",
    "version": 3
   },
   "file_extension": ".py",
   "mimetype": "text/x-python",
   "name": "python",
   "nbconvert_exporter": "python",
   "pygments_lexer": "ipython3",
   "version": "3.6.6"
  },
  "orig_nbformat": 4
 },
 "nbformat": 4,
 "nbformat_minor": 2
}
