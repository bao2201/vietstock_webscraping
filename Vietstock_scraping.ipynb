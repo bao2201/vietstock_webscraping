{
 "cells": [
  {
   "cell_type": "code",
   "execution_count": 1,
   "metadata": {},
   "outputs": [],
   "source": [
    "from bs4 import BeautifulSoup as soup\n",
    "import requests\n",
    "import nltk\n",
    "from newspaper import Article"
   ]
  },
  {
   "cell_type": "code",
   "execution_count": 2,
   "metadata": {},
   "outputs": [],
   "source": [
    "url=\"https://vietstock.vn/\""
   ]
  },
  {
   "cell_type": "code",
   "execution_count": 3,
   "metadata": {},
   "outputs": [],
   "source": [
    "headers={\"User-agent\": 'Chrome/101.0.4951.54'}"
   ]
  },
  {
   "cell_type": "code",
   "execution_count": 4,
   "metadata": {},
   "outputs": [],
   "source": [
    "request =requests.get(url, headers=headers)\n",
    "html=request.content"
   ]
  },
  {
   "cell_type": "code",
   "execution_count": 5,
   "metadata": {},
   "outputs": [],
   "source": [
    "s=soup(html,'html.parser')"
   ]
  },
  {
   "cell_type": "code",
   "execution_count": 6,
   "metadata": {},
   "outputs": [],
   "source": [
    "def stock_news_artilce(keyword): # Hàm học tin liên quan mã CK\n",
    "    news_list=[]\n",
    "    h_list=['h1','h2','h3','h4']    # Dùng list này để chạy loop trong list lấy ra tiêu đề bài báo\n",
    "    for h in s.findAll(h_list):     # Loop để lấy tiêu đề add vào New_list\n",
    "        news_title = h.text\n",
    "        if news_title not in news_list:\n",
    "            news_list.append(news_title)\n",
    "    print(news_list)\n",
    "    \n",
    "    no_of_news=0\n",
    "    keyword_list=[]\n",
    "    for i, title in enumerate(news_list):\n",
    "        text = ''\n",
    "        if keyword.lower() in title: # Tính tổng bài nhắc tới mã CK\n",
    "            text= ''\n",
    "            no_of_news +=1\n",
    "            keyword_list.append(title) # List các bài liên quan mã CK\n",
    "        print(i+1, ':', title, text)\n",
    "    print(f'\\n-------- Total mentions of \"{keyword}\" = {no_of_news} -----')\n",
    "\n",
    "    for i, title in enumerate(keyword_list):\n",
    "        print(i + 1, ':', title)"
   ]
  },
  {
   "cell_type": "code",
   "execution_count": 7,
   "metadata": {},
   "outputs": [],
   "source": [
    "def stocknews_get_link(url):\n",
    "    headers={\"User-agent\": 'Chrome/101.0.4951.54'}\n",
    "    request =requests.get(url, headers=headers)\n",
    "    html=request.content\n",
    "    s=soup(html,'html.parser')  \n",
    "    h4_tags = s.find_all(\"h4\")\n",
    "    urls = []\n",
    "    a_list=[]\n",
    "    for h4_tag in h4_tags:\n",
    "        a_tag = h4_tag.find(\"a\")\n",
    "        if a_tag is not None:\n",
    "            url=a_tag['href']\n",
    "            urls.append(url)\n",
    "    return urls"
   ]
  },
  {
   "cell_type": "code",
   "execution_count": 8,
   "metadata": {},
   "outputs": [],
   "source": [
    "stock_list=['HPG','CTG','ACB','BID','BVH','FPT','GAS','GVR','HDB','KDH','BMM','MSN','MWG','NVL','PDR','PLX','PNJ','POW','SAB','SSI','STB','TCB','VCB','VHM','VIC','VJC','VNM','VPB','VRE']"
   ]
  },
  {
   "cell_type": "code",
   "execution_count": 9,
   "metadata": {},
   "outputs": [
    {
     "ename": "NameError",
     "evalue": "name 'link' is not defined",
     "output_type": "error",
     "traceback": [
      "\u001b[1;31m---------------------------------------------------------------------------\u001b[0m",
      "\u001b[1;31mNameError\u001b[0m                                 Traceback (most recent call last)",
      "Cell \u001b[1;32mIn[9], line 3\u001b[0m\n\u001b[0;32m      1\u001b[0m \u001b[39mif\u001b[39;00m \u001b[39m__name__\u001b[39m\u001b[39m==\u001b[39m\u001b[39m'\u001b[39m\u001b[39m__main__\u001b[39m\u001b[39m'\u001b[39m:\n\u001b[1;32m----> 3\u001b[0m     stocknews_get_link(link)\n",
      "\u001b[1;31mNameError\u001b[0m: name 'link' is not defined"
     ]
    }
   ],
   "source": [
    "if __name__=='__main__':\n",
    "    \n",
    "    stocknews_get_link(link)"
   ]
  },
  {
   "cell_type": "code",
   "execution_count": null,
   "metadata": {},
   "outputs": [],
   "source": []
  }
 ],
 "metadata": {
  "kernelspec": {
   "display_name": "Python 3",
   "language": "python",
   "name": "python3"
  },
  "language_info": {
   "codemirror_mode": {
    "name": "ipython",
    "version": 3
   },
   "file_extension": ".py",
   "mimetype": "text/x-python",
   "name": "python",
   "nbconvert_exporter": "python",
   "pygments_lexer": "ipython3",
   "version": "3.11.3"
  },
  "orig_nbformat": 4,
  "vscode": {
   "interpreter": {
    "hash": "318f2c383d48220c821fefd227250c35bb828f95042f5889a5ad1704b1baf79c"
   }
  }
 },
 "nbformat": 4,
 "nbformat_minor": 2
}
